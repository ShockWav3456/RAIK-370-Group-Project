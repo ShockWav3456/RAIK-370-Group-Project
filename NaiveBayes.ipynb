{
 "cells": [
  {
   "cell_type": "markdown",
   "metadata": {},
   "source": [
    "# Satrical Article Analysis Using Naive Bayes"
   ]
  },
  {
   "cell_type": "code",
   "execution_count": 48,
   "metadata": {},
   "outputs": [
    {
     "name": "stderr",
     "output_type": "stream",
     "text": [
      "[nltk_data] Downloading package stopwords to C:\\Users\\Ty\n",
      "[nltk_data]     Lovgren\\AppData\\Roaming\\nltk_data...\n",
      "[nltk_data]   Package stopwords is already up-to-date!\n"
     ]
    }
   ],
   "source": [
    "import re\n",
    "import string\n",
    "import random\n",
    "from collections import Counter\n",
    "\n",
    "# pip install nltk\n",
    "import nltk\n",
    "import pandas as pd\n",
    "import numpy as np\n",
    "import sklearn\n",
    "from nltk.corpus import stopwords\n",
    "from sklearn.model_selection import train_test_split\n",
    "\n",
    "\n",
    "\n",
    "nltk.download('stopwords')\n",
    "stop_words = stopwords.words()"
   ]
  },
  {
   "cell_type": "markdown",
   "metadata": {
    "deletable": false,
    "editable": false
   },
   "source": [
    "Part 1: Data Preprocessing"
   ]
  },
  {
   "cell_type": "code",
   "execution_count": 49,
   "metadata": {
    "tags": []
   },
   "outputs": [],
   "source": [
    "# TODO: Update for what is important for article titles\n",
    "def clean_data(review):\n",
    "    emoji_pattern = re.compile(\"[\"\n",
    "                           u\"\\U0001F600-\\U0001F64F\"  # emoticons\n",
    "                           u\"\\U0001F300-\\U0001F5FF\"  # symbols & pictographs\n",
    "                           u\"\\U0001F680-\\U0001F6FF\"  # transport & map symbols\n",
    "                           u\"\\U0001F1E0-\\U0001F1FF\"  # flags (iOS)\n",
    "                           u\"\\U00002702-\\U000027B0\"\n",
    "                           u\"\\U000024C2-\\U0001F251\"\n",
    "                           \"]+\", flags=re.UNICODE)\n",
    "    review = review.lower()\n",
    "    review = emoji_pattern.sub(r'', review)   \n",
    "    review=re.sub(\"isn't\",'is not',review)\n",
    "    review=re.sub(\"he's\",'he is',review)\n",
    "    review=re.sub(\"she's\",'she is',review)\n",
    "    review = re.sub(\"isn't\", \"is not\", review)\n",
    "    review = re.sub(\"aren't\", \"are not\", review)\n",
    "    review = re.sub(\"wasn't\", \"was not\", review)\n",
    "    review = re.sub(\"weren't\", \"were not\", review)\n",
    "    review = re.sub(\"haven't\", \"have not\", review)\n",
    "    review = re.sub(\"hasn't\", \"has not\", review)\n",
    "    review = re.sub(\"hadn't\", \"had not\", review)\n",
    "    review = re.sub(\"won't\", \"will not\", review)\n",
    "    review = re.sub(\"wouldn't\", \"would not\", review)\n",
    "    review = re.sub(\"don't\", \"do not\", review)\n",
    "    review = re.sub(\"doesn't\", \"does not\", review)\n",
    "    review = re.sub(\"didn't\", \"did not\", review)\n",
    "    review = re.sub(\"can't\", \"cannot\", review)\n",
    "    review = re.sub(\"couldn't\", \"could not\", review)\n",
    "    review = re.sub(\"shouldn't\", \"should not\", review)\n",
    "    review = re.sub(\"mightn't\", \"might not\", review)\n",
    "    review = re.sub(\"mustn't\", \"must not\", review)\n",
    "    review = re.sub(\"he's\", \"he is\", review)\n",
    "    review = re.sub(\"she's\", \"she is\", review)\n",
    "    review = re.sub(\"it's\", \"it is\", review)\n",
    "    review = re.sub(\"that's\", \"that is\", review)\n",
    "    review = re.sub(\"there's\", \"there is\", review)\n",
    "    review = re.sub(\"here's\", \"here is\", review)\n",
    "    review = re.sub(\"who's\", \"who is\", review)\n",
    "    review = re.sub(\"what's\", \"what is\", review)\n",
    "    review = re.sub(\"where's\", \"where is\", review)\n",
    "    review = re.sub(\"when's\", \"when is\", review)\n",
    "    review = re.sub(\"why's\", \"why is\", review)\n",
    "    review = re.sub(\"how's\", \"how is\", review)\n",
    "    review = re.sub(\"I'm\", \"I am\", review)\n",
    "    review = re.sub(\"you're\", \"you are\", review)\n",
    "    review = re.sub(\"they're\", \"they are\", review)\n",
    "    review = re.sub(\"we're\", \"we are\", review)\n",
    "    review = re.sub(\"I've\", \"I have\", review)\n",
    "    review = re.sub(\"you've\", \"you have\", review)\n",
    "    review = re.sub(\"they've\", \"they have\", review)\n",
    "    review = re.sub(\"we've\", \"we have\", review)\n",
    "    review = re.sub(\"I'll\", \"I will\", review)\n",
    "    review = re.sub(\"you'll\", \"you will\", review)\n",
    "    review = re.sub(\"he'll\", \"he will\", review)\n",
    "    review = re.sub(\"she'll\", \"she will\", review)\n",
    "    review = re.sub(\"it'll\", \"it will\", review)\n",
    "    review = re.sub(\"they'll\", \"they will\", review)\n",
    "    review = re.sub(\"we'll\", \"we will\", review)\n",
    "    review = re.sub(\"I'd\", \"I would\", review)\n",
    "    review = re.sub(\"you'd\", \"you would\", review)\n",
    "    review = re.sub(\"he'd\", \"he would\", review)\n",
    "    review = re.sub(\"she'd\", \"she would\", review)\n",
    "    review = re.sub(\"it'd\", \"it would\", review)\n",
    "    review = re.sub(\"they'd\", \"they would\", review)\n",
    "    review = re.sub(\"we'd\", \"we would\", review)\n",
    "    review = re.sub(r\"\\n\", \" \", review)\n",
    "    review = re.sub(r\"\\W\", \" \", review)\n",
    "    review = re.sub(r\"\\d\", \" \", review)\n",
    "\n",
    "\n",
    "    return review"
   ]
  },
  {
   "cell_type": "code",
   "execution_count": 51,
   "metadata": {
    "tags": []
   },
   "outputs": [],
   "source": [
    "###########################\n",
    "# Onion Article Importing #\n",
    "###########################\n",
    "\n",
    "# Onion Dataset columns (post rename): title, satirical\n",
    "# Satirical column key:\n",
    "# 0 = onion like article\n",
    "# 1 = onion article\n",
    "\n",
    "# Converting onion & like onion articles csv into df\n",
    "onion_dataset = pd.read_csv(\"./Data_Exploration/Satire_HeadLines_Source/OnionOrNot.csv\")\n",
    "\n",
    "# Renaming columns for consistency\n",
    "onion_dataset = onion_dataset.rename(columns= {\"text\": \"title\", \"label\": \"satirical\"})\n",
    "\n",
    "# Collecting indexes of like onion articles\n",
    "non_onion_articles = onion_dataset[onion_dataset[\"satirical\"] == 0].index\n",
    "\n",
    "# Dropping like onion articles from the dataset\n",
    "onion_articles = onion_dataset.drop(non_onion_articles)\n",
    "\n",
    "\n",
    "##########################\n",
    "# Real Article Importing #\n",
    "##########################\n",
    "\n",
    "# Converting real articles source csv into df\n",
    "real_articles = pd.read_csv(\"./Data_Exploration/Genuine_HeadLines_Source/True.csv\")\n",
    "\n",
    "# Dropping non-relevant details\n",
    "real_articles = real_articles.drop(columns= {\"text\",\"subject\",\"date\"})\n",
    "\n",
    "# Adding satirical key to mark articles as real articles\n",
    "real_articles[\"satirical\"] = 0\n",
    "\n",
    "# Logging \n",
    "# print(onion_sources.columns)\n",
    "# print(onion_sources.iloc[0])\n",
    "# print(real_sources.columns)\n",
    "# print(real_sources.iloc[0])\n",
    "\n",
    "\n",
    "# Columns: title, satirical\n",
    "# satirical column key:\n",
    "# 0 = non-satiricial article\n",
    "# 1 = satirical article\n",
    "\n",
    "# Merging of real and onion articles\n",
    "combined_articles = pd.concat([onion_articles, real_articles], ignore_index=True)\n",
    "\n",
    "\n",
    "# Cleaning the title column\n",
    "combined_articles['cleaned_title'] = combined_articles['title'].apply(clean_data)\n",
    "\n",
    "# Dropping non-cleaned titles\n",
    "combined_articles = combined_articles[['cleaned_title', 'satirical']]"
   ]
  },
  {
   "cell_type": "code",
   "execution_count": null,
   "metadata": {
    "tags": []
   },
   "outputs": [],
   "source": [
    "#  Removal of stop words from combined article dataset\n",
    "combined_articles['no_sw'] = combined_articles['cleaned_title'].apply(lambda x: ' '.join([word for word in x.split() if word not in (stop_words)]))"
   ]
  },
  {
   "cell_type": "markdown",
   "metadata": {},
   "source": [
    "## To Do: Do we need these next 3"
   ]
  },
  {
   "cell_type": "code",
   "execution_count": null,
   "metadata": {
    "tags": []
   },
   "outputs": [],
   "source": [
    "# find value counts of all words in all data points\n",
    "counter = Counter()\n",
    "for text in combined_articles[\"no_sw\"].values:\n",
    "    for word in text.split():\n",
    "        counter[word] += 1\n",
    "\n",
    "# creates a set of the 10 most common words amongst all reviews\n",
    "FREQWORDS = set([w for (w, wc) in counter.most_common(10)])"
   ]
  },
  {
   "cell_type": "code",
   "execution_count": null,
   "metadata": {
    "tags": []
   },
   "outputs": [],
   "source": [
    "def remove_freqwords(text, freqwords):\n",
    "    '''Given a tweet that has been cleaned, returns the tweet without the most frequently appearing words'''\n",
    "    for word in freqwords:\n",
    "        text = re.sub(word, \" \", text)\n",
    "\n",
    "    return text\n",
    "\n",
    "\n",
    "# remove frequent words that do not add value to the model\n",
    "combined_articles[\"no_sw\"] = combined_articles[\"no_sw\"].apply(lambda text: remove_freqwords(text, FREQWORDS))"
   ]
  },
  {
   "cell_type": "code",
   "execution_count": null,
   "metadata": {
    "tags": []
   },
   "outputs": [],
   "source": [
    "tokenized_data = combined_articles.drop(columns=['cleaned_title'])\n",
    "tokenized_data.columns = ['satirical', 'cleaned_title']\n",
    "\n",
    "tokenized_data[\"cleaned_title\"] = tokenized_data[\"cleaned_title\"].apply(lambda t: t.split())\n"
   ]
  },
  {
   "cell_type": "markdown",
   "metadata": {
    "deletable": false,
    "editable": false
   },
   "source": [
    "Part 2: Naive Bayes Implementation"
   ]
  },
  {
   "cell_type": "code",
   "execution_count": null,
   "metadata": {
    "tags": []
   },
   "outputs": [],
   "source": [
    "import math\n",
    "import random\n",
    "\n",
    "\n",
    "class NaiveBayesModel:\n",
    "    '''Class representing the implementation of the Naive Bayes model'''\n",
    "\n",
    "    def __init__(self) -> None:\n",
    "        self.occurrence_table = {}\n",
    "        self.probability_table = {}\n",
    "        self.labels = []\n",
    "        \n",
    "\n",
    "    def train_model(self, data, labels):\n",
    "        '''Runs the training process for the model, building the occurrence table and probability table'''\n",
    "        self.build_occurrence_table(data, labels)\n",
    "        self.build_probability_table()\n",
    "\n",
    "\n",
    "    def build_occurrence_table(self, data, labels):\n",
    "        '''Private function to create the occurrence table given the training data and labels'''\n",
    "        for words, label in zip(data,labels):\n",
    "            for word in words:\n",
    "                if word not in self.occurrence_table.keys():\n",
    "                    self.occurrence_table[word] = {0: 1, 1: 1, 2: 1}\n",
    "                self.occurrence_table[word][label] += 1\n",
    "\n",
    "                \n",
    "        \n",
    "\n",
    "    def build_probability_table(self):\n",
    "        '''Private function to create the probability table based on the occurrence table'''\n",
    "        for word in self.occurrence_table.keys():\n",
    "            self.probability_table[word] = {0: 0, 1: 0, 2: 0}         \n",
    "            sum =  self.occurrence_table[word][0] + self.occurrence_table[word][1] + self.occurrence_table[word][2]\n",
    "            i = 0\n",
    "            while i < 3:\n",
    "                self.probability_table[word][i] = self.occurrence_table[word][i] / sum\n",
    "                i += 1\n",
    "            \n",
    "            \n",
    "\n",
    "    def predict(self, variables):\n",
    "        '''Takes a set of variables, and predicts the class they should belong to'''\n",
    "        \n",
    "        predictions = []\n",
    "        for words in variables:\n",
    "            positive = []\n",
    "            negative = []\n",
    "            neutral = []\n",
    "            for word in words:\n",
    "                if word in self.probability_table.keys():\n",
    "                    negative.append(self.probability_table[word][0])\n",
    "                    neutral.append(self.probability_table[word][1])\n",
    "                    positive.append(self.probability_table[word][2])\n",
    "                else:\n",
    "                    smoothing = 1 / (len(self.probability_table.keys()) + len(words))\n",
    "                    negative.append(smoothing)\n",
    "                    neutral.append(smoothing)\n",
    "                    positive.append(smoothing)\n",
    "            negative_prob = 1\n",
    "            for value in negative:\n",
    "                negative_prob = negative_prob * value\n",
    "            neutral_prob = 1\n",
    "            for value in neutral:\n",
    "                neutral_prob = neutral_prob * value\n",
    "            positive_prob = 1\n",
    "            for value in positive:\n",
    "                positive_prob = positive_prob * value\n",
    "            \n",
    "            if(negative_prob > neutral_prob and negative_prob > positive_prob):\n",
    "                predictions.append(0)\n",
    "            elif(neutral_prob > negative_prob and neutral_prob > positive_prob):\n",
    "                predictions.append(1)\n",
    "            elif(positive_prob > negative_prob and positive_prob > neutral_prob):\n",
    "                predictions.append(2)\n",
    "            elif(negative_prob == neutral_prob and negative_prob > positive_prob):\n",
    "                predictions.append(random.randint(0, 1))\n",
    "            elif(negative_prob == positive_prob and negative_prob > neutral_prob):\n",
    "                rand_int = random.randint(0, 1)\n",
    "                if(rand_int == 1):\n",
    "                    predictions.append(2)\n",
    "                else:\n",
    "                    predictions.append(0)\n",
    "            elif(neutral_prob == positive_prob and neutral_prob > negative_prob):\n",
    "                predictions.append(random.randint(1, 2))\n",
    "            else:\n",
    "                predictions.append(random.randint(0, 2))\n",
    "\n",
    "        return predictions\n",
    "                \n",
    "\n",
    "\n"
   ]
  },
  {
   "cell_type": "code",
   "execution_count": null,
   "metadata": {
    "tags": []
   },
   "outputs": [
    {
     "name": "stdout",
     "output_type": "stream",
     "text": [
      "Tokenized data sample:\n",
      "Empty DataFrame\n",
      "Columns: [satirical, cleaned_title]\n",
      "Index: []\n",
      "Number of rows: 0\n"
     ]
    },
    {
     "ename": "ValueError",
     "evalue": "With n_samples=0, test_size=0.2 and train_size=None, the resulting train set will be empty. Adjust any of the aforementioned parameters.",
     "output_type": "error",
     "traceback": [
      "\u001b[31m---------------------------------------------------------------------------\u001b[39m",
      "\u001b[31mValueError\u001b[39m                                Traceback (most recent call last)",
      "\u001b[36mCell\u001b[39m\u001b[36m \u001b[39m\u001b[32mIn[47]\u001b[39m\u001b[32m, line 6\u001b[39m\n\u001b[32m      3\u001b[39m \u001b[38;5;28mprint\u001b[39m(\u001b[33m\"\u001b[39m\u001b[33mNumber of rows:\u001b[39m\u001b[33m\"\u001b[39m, \u001b[38;5;28mlen\u001b[39m(tokenized_data))\n\u001b[32m      5\u001b[39m \u001b[38;5;66;03m#TODO Change for new data set \u001b[39;00m\n\u001b[32m----> \u001b[39m\u001b[32m6\u001b[39m data_train, data_test, label_train, label_test = \u001b[43mtrain_test_split\u001b[49m\u001b[43m(\u001b[49m\u001b[43mtokenized_data\u001b[49m\u001b[43m[\u001b[49m\u001b[33;43m\"\u001b[39;49m\u001b[33;43mcleaned_title\u001b[39;49m\u001b[33;43m\"\u001b[39;49m\u001b[43m]\u001b[49m\u001b[43m,\u001b[49m\u001b[43m \u001b[49m\u001b[43mtokenized_data\u001b[49m\u001b[43m[\u001b[49m\u001b[33;43m\"\u001b[39;49m\u001b[33;43msatirical\u001b[39;49m\u001b[33;43m\"\u001b[39;49m\u001b[43m]\u001b[49m\u001b[43m,\u001b[49m\u001b[43m \u001b[49m\u001b[43mtest_size\u001b[49m\u001b[43m=\u001b[49m\u001b[32;43m0.2\u001b[39;49m\u001b[43m,\u001b[49m\u001b[43m \u001b[49m\u001b[43mshuffle\u001b[49m\u001b[43m=\u001b[49m\u001b[38;5;28;43;01mTrue\u001b[39;49;00m\u001b[43m)\u001b[49m\n\u001b[32m      8\u001b[39m \u001b[38;5;28mprint\u001b[39m(\u001b[33m\"\u001b[39m\u001b[33mEmpty cleaned titles:\u001b[39m\u001b[33m\"\u001b[39m, tokenized_data[tokenized_data[\u001b[33m\"\u001b[39m\u001b[33mcleaned_title\u001b[39m\u001b[33m\"\u001b[39m].str.len() == \u001b[32m0\u001b[39m])\n\u001b[32m     10\u001b[39m \u001b[38;5;66;03m#TODO train and predict using the Naive Bayes model implementation\u001b[39;00m\n",
      "\u001b[36mFile \u001b[39m\u001b[32m~\\AppData\\Roaming\\Python\\Python313\\site-packages\\sklearn\\utils\\_param_validation.py:216\u001b[39m, in \u001b[36mvalidate_params.<locals>.decorator.<locals>.wrapper\u001b[39m\u001b[34m(*args, **kwargs)\u001b[39m\n\u001b[32m    210\u001b[39m \u001b[38;5;28;01mtry\u001b[39;00m:\n\u001b[32m    211\u001b[39m     \u001b[38;5;28;01mwith\u001b[39;00m config_context(\n\u001b[32m    212\u001b[39m         skip_parameter_validation=(\n\u001b[32m    213\u001b[39m             prefer_skip_nested_validation \u001b[38;5;129;01mor\u001b[39;00m global_skip_validation\n\u001b[32m    214\u001b[39m         )\n\u001b[32m    215\u001b[39m     ):\n\u001b[32m--> \u001b[39m\u001b[32m216\u001b[39m         \u001b[38;5;28;01mreturn\u001b[39;00m \u001b[43mfunc\u001b[49m\u001b[43m(\u001b[49m\u001b[43m*\u001b[49m\u001b[43margs\u001b[49m\u001b[43m,\u001b[49m\u001b[43m \u001b[49m\u001b[43m*\u001b[49m\u001b[43m*\u001b[49m\u001b[43mkwargs\u001b[49m\u001b[43m)\u001b[49m\n\u001b[32m    217\u001b[39m \u001b[38;5;28;01mexcept\u001b[39;00m InvalidParameterError \u001b[38;5;28;01mas\u001b[39;00m e:\n\u001b[32m    218\u001b[39m     \u001b[38;5;66;03m# When the function is just a wrapper around an estimator, we allow\u001b[39;00m\n\u001b[32m    219\u001b[39m     \u001b[38;5;66;03m# the function to delegate validation to the estimator, but we replace\u001b[39;00m\n\u001b[32m    220\u001b[39m     \u001b[38;5;66;03m# the name of the estimator by the name of the function in the error\u001b[39;00m\n\u001b[32m    221\u001b[39m     \u001b[38;5;66;03m# message to avoid confusion.\u001b[39;00m\n\u001b[32m    222\u001b[39m     msg = re.sub(\n\u001b[32m    223\u001b[39m         \u001b[33mr\u001b[39m\u001b[33m\"\u001b[39m\u001b[33mparameter of \u001b[39m\u001b[33m\\\u001b[39m\u001b[33mw+ must be\u001b[39m\u001b[33m\"\u001b[39m,\n\u001b[32m    224\u001b[39m         \u001b[33mf\u001b[39m\u001b[33m\"\u001b[39m\u001b[33mparameter of \u001b[39m\u001b[38;5;132;01m{\u001b[39;00mfunc.\u001b[34m__qualname__\u001b[39m\u001b[38;5;132;01m}\u001b[39;00m\u001b[33m must be\u001b[39m\u001b[33m\"\u001b[39m,\n\u001b[32m    225\u001b[39m         \u001b[38;5;28mstr\u001b[39m(e),\n\u001b[32m    226\u001b[39m     )\n",
      "\u001b[36mFile \u001b[39m\u001b[32m~\\AppData\\Roaming\\Python\\Python313\\site-packages\\sklearn\\model_selection\\_split.py:2851\u001b[39m, in \u001b[36mtrain_test_split\u001b[39m\u001b[34m(test_size, train_size, random_state, shuffle, stratify, *arrays)\u001b[39m\n\u001b[32m   2848\u001b[39m arrays = indexable(*arrays)\n\u001b[32m   2850\u001b[39m n_samples = _num_samples(arrays[\u001b[32m0\u001b[39m])\n\u001b[32m-> \u001b[39m\u001b[32m2851\u001b[39m n_train, n_test = \u001b[43m_validate_shuffle_split\u001b[49m\u001b[43m(\u001b[49m\n\u001b[32m   2852\u001b[39m \u001b[43m    \u001b[49m\u001b[43mn_samples\u001b[49m\u001b[43m,\u001b[49m\u001b[43m \u001b[49m\u001b[43mtest_size\u001b[49m\u001b[43m,\u001b[49m\u001b[43m \u001b[49m\u001b[43mtrain_size\u001b[49m\u001b[43m,\u001b[49m\u001b[43m \u001b[49m\u001b[43mdefault_test_size\u001b[49m\u001b[43m=\u001b[49m\u001b[32;43m0.25\u001b[39;49m\n\u001b[32m   2853\u001b[39m \u001b[43m\u001b[49m\u001b[43m)\u001b[49m\n\u001b[32m   2855\u001b[39m \u001b[38;5;28;01mif\u001b[39;00m shuffle \u001b[38;5;129;01mis\u001b[39;00m \u001b[38;5;28;01mFalse\u001b[39;00m:\n\u001b[32m   2856\u001b[39m     \u001b[38;5;28;01mif\u001b[39;00m stratify \u001b[38;5;129;01mis\u001b[39;00m \u001b[38;5;129;01mnot\u001b[39;00m \u001b[38;5;28;01mNone\u001b[39;00m:\n",
      "\u001b[36mFile \u001b[39m\u001b[32m~\\AppData\\Roaming\\Python\\Python313\\site-packages\\sklearn\\model_selection\\_split.py:2481\u001b[39m, in \u001b[36m_validate_shuffle_split\u001b[39m\u001b[34m(n_samples, test_size, train_size, default_test_size)\u001b[39m\n\u001b[32m   2478\u001b[39m n_train, n_test = \u001b[38;5;28mint\u001b[39m(n_train), \u001b[38;5;28mint\u001b[39m(n_test)\n\u001b[32m   2480\u001b[39m \u001b[38;5;28;01mif\u001b[39;00m n_train == \u001b[32m0\u001b[39m:\n\u001b[32m-> \u001b[39m\u001b[32m2481\u001b[39m     \u001b[38;5;28;01mraise\u001b[39;00m \u001b[38;5;167;01mValueError\u001b[39;00m(\n\u001b[32m   2482\u001b[39m         \u001b[33m\"\u001b[39m\u001b[33mWith n_samples=\u001b[39m\u001b[38;5;132;01m{}\u001b[39;00m\u001b[33m, test_size=\u001b[39m\u001b[38;5;132;01m{}\u001b[39;00m\u001b[33m and train_size=\u001b[39m\u001b[38;5;132;01m{}\u001b[39;00m\u001b[33m, the \u001b[39m\u001b[33m\"\u001b[39m\n\u001b[32m   2483\u001b[39m         \u001b[33m\"\u001b[39m\u001b[33mresulting train set will be empty. Adjust any of the \u001b[39m\u001b[33m\"\u001b[39m\n\u001b[32m   2484\u001b[39m         \u001b[33m\"\u001b[39m\u001b[33maforementioned parameters.\u001b[39m\u001b[33m\"\u001b[39m.format(n_samples, test_size, train_size)\n\u001b[32m   2485\u001b[39m     )\n\u001b[32m   2487\u001b[39m \u001b[38;5;28;01mreturn\u001b[39;00m n_train, n_test\n",
      "\u001b[31mValueError\u001b[39m: With n_samples=0, test_size=0.2 and train_size=None, the resulting train set will be empty. Adjust any of the aforementioned parameters."
     ]
    }
   ],
   "source": [
    "print(\"Tokenized data sample:\")\n",
    "print(tokenized_data.head())\n",
    "print(\"Number of rows:\", len(tokenized_data))\n",
    "\n",
    "#TODO Change for new data set \n",
    "data_train, data_test, label_train, label_test = train_test_split(tokenized_data[\"cleaned_title\"], tokenized_data[\"satirical\"], test_size=0.2, shuffle=True)\n",
    "\n",
    "print(\"Empty cleaned titles:\", tokenized_data[tokenized_data[\"cleaned_title\"].str.len() == 0])\n",
    "\n",
    "#TODO train and predict using the Naive Bayes model implementation\n",
    "naivebayes = NaiveBayesModel()\n",
    "naivebayes.train_model(data_train, label_train)\n",
    "predicted_data = naivebayes.predict(data_test) \n",
    "\n"
   ]
  },
  {
   "cell_type": "code",
   "execution_count": null,
   "metadata": {
    "tags": []
   },
   "outputs": [
    {
     "name": "stdout",
     "output_type": "stream",
     "text": [
      "[[46801 20514 16956]\n",
      " [10938 72514 44165]\n",
      " [ 4009 16938 87165]]\n"
     ]
    },
    {
     "data": {
      "image/png": "[encoded data removed]",
      "text/plain": [
       "<Figure size 640x480 with 2 Axes>"
      ]
     },
     "metadata": {},
     "output_type": "display_data"
    },
    {
     "name": "stdout",
     "output_type": "stream",
     "text": [
      "Accuracy: 0.64525\n",
      "Precision: 0.661173396896559\n",
      "Recall: 0.64525\n",
      "F Score: 0.6419647841552377\n"
     ]
    }
   ],
   "source": [
    "import matplotlib.pyplot as plt\n",
    "import sklearn.metrics as metrics\n",
    "#TODO - Change for new data set\n",
    "\n",
    "conf_matrix = metrics.confusion_matrix(label_test, predicted_data, labels=[0,1,2])\n",
    "print(conf_matrix)\n",
    "display = metrics.ConfusionMatrixDisplay(confusion_matrix= conf_matrix, display_labels=[0,1,2])\n",
    "display.plot(cmap=\"Blues\")\n",
    "plt.xlabel(\"Predicted\")\n",
    "plt.ylabel(\"Actual\")\n",
    "plt.title(\"Article Sentiment Predictor\")\n",
    "plt.show()\n",
    "\n",
    "accuracy = metrics.accuracy_score(label_test, predicted_data)\n",
    "print(f\"Accuracy: {accuracy}\")\n",
    "precision = metrics.precision_score(label_test, predicted_data, average= \"weighted\")\n",
    "print(f\"Precision: {precision}\")\n",
    "recall = metrics.recall_score(label_test, predicted_data, average=\"weighted\")\n",
    "print(f\"Recall: {recall}\")\n",
    "f_score = metrics.f1_score(label_test, predicted_data, average=\"weighted\")\n",
    "print(f\"F Score: {f_score}\")"
   ]
  }
 ],
 "metadata": {
  "kernelspec": {
   "display_name": "Python 3",
   "language": "python",
   "name": "python3"
  },
  "language_info": {
   "codemirror_mode": {
    "name": "ipython",
    "version": 3
   },
   "file_extension": ".py",
   "mimetype": "text/x-python",
   "name": "python",
   "nbconvert_exporter": "python",
   "pygments_lexer": "ipython3",
   "version": "3.13.3"
  },
  "otter": {
   "OK_FORMAT": true,
   "assignment_name": "naivebayes",
   "tests": {
    "p1": {
     "name": "p1",
     "points": null,
     "suites": [
      {
       "cases": [],
       "scored": true,
       "setup": "",
       "teardown": "",
       "type": "doctest"
      }
     ]
    }
   }
  }
 },
 "nbformat": 4,
 "nbformat_minor": 2
}
