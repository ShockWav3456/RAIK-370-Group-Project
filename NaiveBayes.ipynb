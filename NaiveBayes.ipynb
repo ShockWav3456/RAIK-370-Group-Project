{
 "cells": [
  {
   "cell_type": "markdown",
   "metadata": {},
   "source": [
    "# Satrical Article Analysis Using Naive Bayes"
   ]
  },
  {
   "cell_type": "code",
   "execution_count": 205,
   "metadata": {},
   "outputs": [
    {
     "name": "stdout",
     "output_type": "stream",
     "text": [
      "['0x52', '0x75', '0x73', '0x73', '0x69', '0x61', '0x6e', '0x20', '0x4d', '0x61', '0x6e', '0x20', '0x52', '0x65', '0x63', '0x61', '0x6c', '0x6c', '0x73', '0x20', '0x4f', '0x70', '0x70', '0x72', '0x65', '0x73', '0x73', '0x69', '0x76', '0x65', '0x20', '0x44', '0x61', '0x79', '0x73', '0x20', '0x55', '0x6e', '0x64', '0x65', '0x72', '0x20', '0x43', '0x6f', '0x6d', '0x6d', '0x75', '0x6e', '0x69', '0x73', '0x6d', '0x20', '0x57', '0x68', '0x65', '0x6e', '0x20', '0x4e', '0x6f', '0x20', '0x4f', '0x6e', '0x65', '0x20', '0x43', '0x6f', '0x75', '0x6c', '0x64', '0x20', '0x53', '0x70', '0x65', '0x61', '0x6b', '0x20', '0x46', '0x72', '0x65', '0x65', '0x6c', '0x79', '0x20', '0x4f', '0x72', '0x20', '0x50', '0x72', '0x6f', '0x74', '0x65', '0x73', '0x74', '0x20', '0x47', '0x6f', '0x76', '0x65', '0x72', '0x6e', '0x6d', '0x65', '0x6e', '0x74', '0x2c', '0x31']\n"
     ]
    },
    {
     "name": "stderr",
     "output_type": "stream",
     "text": [
      "[nltk_data] Downloading package punkt to C:\\Users\\Ty\n",
      "[nltk_data]     Lovgren\\AppData\\Roaming\\nltk_data...\n",
      "[nltk_data]   Package punkt is already up-to-date!\n",
      "[nltk_data] Downloading package punkt_tab to C:\\Users\\Ty\n",
      "[nltk_data]     Lovgren\\AppData\\Roaming\\nltk_data...\n",
      "[nltk_data]   Package punkt_tab is already up-to-date!\n",
      "[nltk_data] Downloading package stopwords to C:\\Users\\Ty\n",
      "[nltk_data]     Lovgren\\AppData\\Roaming\\nltk_data...\n",
      "[nltk_data]   Package stopwords is already up-to-date!\n"
     ]
    }
   ],
   "source": [
    "import re\n",
    "import string\n",
    "import random\n",
    "from collections import Counter\n",
    "\n",
    "# pip install nltk\n",
    "import nltk\n",
    "import pandas as pd\n",
    "import numpy as np\n",
    "import sklearn\n",
    "import unicodedata\n",
    "from nltk.corpus import stopwords\n",
    "from nltk.tokenize import word_tokenize\n",
    "from sklearn.model_selection import train_test_split\n",
    "\n",
    "\n",
    "\n",
    "nltk.download('punkt')\n",
    "nltk.download('punkt_tab')\n",
    "nltk.download('stopwords')\n",
    "stop_words = stopwords.words()\n",
    "\n",
    "bad_title = \"Russian Man Recalls Oppressive Days Under Communism When No One Could Speak Freely Or Protest Government,1\"\n",
    "print([hex(ord(c)) for c in bad_title])\n"
   ]
  },
  {
   "cell_type": "markdown",
   "metadata": {
    "deletable": false,
    "editable": false
   },
   "source": [
    "Part 1: Data Preprocessing"
   ]
  },
  {
   "cell_type": "code",
   "execution_count": 206,
   "metadata": {
    "tags": []
   },
   "outputs": [],
   "source": [
    "\n",
    "\n",
    "stop_words = set(stopwords.words('english'))\n",
    "\n",
    "def clean_data(review):\n",
    "\n",
    "    review = unicodedata.normalize(\"NFKD\", review)\n",
    "    # Remove emojis\n",
    "    emoji_pattern = re.compile(\"[\" \n",
    "        u\"\\U0001F600-\\U0001F64F\"  # emoticons\n",
    "        u\"\\U0001F300-\\U0001F5FF\"  # symbols & pictographs\n",
    "        u\"\\U0001F680-\\U0001F6FF\"  # transport & map symbols\n",
    "        u\"\\U0001F1E0-\\U0001F1FF\"  # flags\n",
    "        u\"\\U00002702-\\U000027B0\"\n",
    "        u\"\\U000024C2-\\U0001F251\"\n",
    "        \"]+\", flags=re.UNICODE)\n",
    "    \n",
    "    review = review.lower()\n",
    "    review = emoji_pattern.sub(r'', review)\n",
    "\n",
    "    # Expand some common contractions (safe with word boundaries)\n",
    "    contractions = {\n",
    "        r\"\\bcan't\\b\": \"cannot\",\n",
    "        r\"\\bdon't\\b\": \"do not\",\n",
    "        r\"\\bdoesn't\\b\": \"does not\",\n",
    "        r\"\\bdidn't\\b\": \"did not\",\n",
    "        r\"\\baren't\\b\": \"are not\",\n",
    "        r\"\\bwasn't\\b\": \"was not\",\n",
    "        r\"\\bweren't\\b\": \"were not\",\n",
    "        r\"\\bhaven't\\b\": \"have not\",\n",
    "        r\"\\bhasn't\\b\": \"has not\",\n",
    "        r\"\\bhadn't\\b\": \"had not\",\n",
    "        r\"\\bwon't\\b\": \"will not\",\n",
    "        r\"\\bwouldn't\\b\": \"would not\",\n",
    "        r\"\\bi'm\\b\": \"i am\",\n",
    "        r\"\\byou're\\b\": \"you are\",\n",
    "        r\"\\bthey're\\b\": \"they are\",\n",
    "        r\"\\bwe're\\b\": \"we are\",\n",
    "        r\"\\bit's\\b\": \"it is\",\n",
    "        r\"\\bthat's\\b\": \"that is\",\n",
    "        r\"\\bthere's\\b\": \"there is\",\n",
    "        r\"\\bwho's\\b\": \"who is\"\n",
    "    }\n",
    "\n",
    "    for pattern, replacement in contractions.items():\n",
    "        review = re.sub(pattern, replacement, review)\n",
    "\n",
    "    # Tokenize the sentence\n",
    "    words = word_tokenize(review)\n",
    "\n",
    "    # Remove stopwords and non-alphabetic words\n",
    "    words = [word for word in words if re.match(r'^[a-zA-Z]+$', word) and word not in stop_words]\n",
    "\n",
    "    return ' '.join(words)"
   ]
  },
  {
   "cell_type": "code",
   "execution_count": 207,
   "metadata": {
    "tags": []
   },
   "outputs": [],
   "source": [
    "###########################\n",
    "# Onion Article Importing #\n",
    "###########################\n",
    "\n",
    "# Onion Dataset columns (post rename): title, satirical\n",
    "# Satirical column key:\n",
    "# 0 = onion like article\n",
    "# 1 = onion article\n",
    "\n",
    "# Converting onion & like onion articles csv into df\n",
    "onion_dataset = pd.read_csv(\"./Data_Exploration/Satire_HeadLines_Source/OnionOrNot.csv\")\n",
    "\n",
    "# Renaming columns for consistency\n",
    "onion_dataset = onion_dataset.rename(columns= {\"text\": \"title\", \"label\": \"satirical\"})\n",
    "\n",
    "# Collecting indexes of like onion articles\n",
    "non_onion_articles = onion_dataset[onion_dataset[\"satirical\"] == 0].index\n",
    "\n",
    "# Dropping like onion articles from the dataset\n",
    "onion_articles = onion_dataset.drop(non_onion_articles)\n",
    "\n",
    "\n",
    "##########################\n",
    "# Real Article Importing #\n",
    "##########################\n",
    "\n",
    "# Converting real articles source csv into df\n",
    "real_articles = pd.read_csv(\"./Data_Exploration/Genuine_HeadLines_Source/True.csv\")\n",
    "\n",
    "# Dropping non-relevant details\n",
    "real_articles = real_articles.drop(columns= {\"text\",\"subject\",\"date\"})\n",
    "\n",
    "# Adding satirical key to mark articles as real articles\n",
    "real_articles[\"satirical\"] = 0\n",
    "\n",
    "# Logging \n",
    "# print(onion_sources.columns)\n",
    "# print(onion_sources.iloc[0])\n",
    "# print(real_sources.columns)\n",
    "# print(real_sources.iloc[0])\n",
    "\n",
    "\n",
    "# Columns: title, satirical\n",
    "# satirical column key:\n",
    "# 0 = non-satiricial article\n",
    "# 1 = satirical article\n",
    "\n",
    "# Merging of real and onion articles\n",
    "combined_articles = pd.concat([onion_articles, real_articles], ignore_index=True)\n",
    "\n",
    "\n",
    "# Cleaning the title column\n",
    "combined_articles['cleaned_title'] = combined_articles['title'].apply(clean_data)\n",
    "\n",
    "# Dropping non-cleaned titles\n",
    "combined_articles = combined_articles[['cleaned_title', 'satirical']]"
   ]
  },
  {
   "cell_type": "code",
   "execution_count": 208,
   "metadata": {
    "tags": []
   },
   "outputs": [],
   "source": [
    "#  Removal of stop words from combined article dataset\n",
    "combined_articles['no_sw'] = combined_articles['cleaned_title'].apply(lambda x: ' '.join([word for word in x.split() if word not in (stop_words)]))"
   ]
  },
  {
   "cell_type": "markdown",
   "metadata": {},
   "source": [
    "## To Do: Do we need these next 3"
   ]
  },
  {
   "cell_type": "code",
   "execution_count": 209,
   "metadata": {
    "tags": []
   },
   "outputs": [],
   "source": [
    "# find value counts of all words in all data points\n",
    "counter = Counter()\n",
    "for text in combined_articles[\"no_sw\"].values:\n",
    "    for word in text.split():\n",
    "        counter[word] += 1\n",
    "\n",
    "# creates a set of the 10 most common words amongst all reviews\n",
    "FREQWORDS = set([w for (w, wc) in counter.most_common(10)])"
   ]
  },
  {
   "cell_type": "code",
   "execution_count": 210,
   "metadata": {
    "tags": []
   },
   "outputs": [],
   "source": [
    "def remove_freqwords(text, freqwords):\n",
    "    '''Given a tweet that has been cleaned, returns the tweet without the most frequently appearing words'''\n",
    "    for word in freqwords:\n",
    "        text = re.sub(word, \" \", text)\n",
    "\n",
    "    return text\n",
    "\n",
    "\n",
    "# remove frequent words that do not add value to the model\n",
    "combined_articles[\"no_sw\"] = combined_articles[\"no_sw\"].apply(lambda text: remove_freqwords(text, FREQWORDS))"
   ]
  },
  {
   "cell_type": "code",
   "execution_count": 211,
   "metadata": {
    "tags": []
   },
   "outputs": [],
   "source": [
    "# Pasing data into new DF in preperation for tokenization\n",
    "tokenized_data = combined_articles.drop(columns=['cleaned_title'])\n",
    "\n",
    "# Establishing column names\n",
    "tokenized_data.columns = ['satirical', 'cleaned_title']\n",
    "\n",
    "# Tokenizing the data\n",
    "tokenized_data[\"cleaned_title\"] = tokenized_data[\"cleaned_title\"].apply(lambda t: t.split())\n"
   ]
  },
  {
   "cell_type": "markdown",
   "metadata": {
    "deletable": false,
    "editable": false
   },
   "source": [
    "Part 2: Naive Bayes Implementation"
   ]
  },
  {
   "cell_type": "code",
   "execution_count": 212,
   "metadata": {
    "tags": []
   },
   "outputs": [],
   "source": [
    "import math\n",
    "import random\n",
    "\n",
    "\n",
    "class NaiveBayesModel:\n",
    "    '''Class representing the implementation of the Naive Bayes model'''\n",
    "\n",
    "    def __init__(self) -> None:\n",
    "        self.occurrence_table = {}\n",
    "        self.probability_table = {}\n",
    "        self.labels = []\n",
    "        \n",
    "\n",
    "    def train_model(self, data, labels):\n",
    "        '''Runs the training process for the model, building the occurrence table and probability table'''\n",
    "        self.build_occurrence_table(data, labels)\n",
    "        self.build_probability_table()\n",
    "\n",
    "\n",
    "    def build_occurrence_table(self, data, labels):\n",
    "        '''Private function to create the occurrence table given the training data and labels'''\n",
    "        for words, label in zip(data,labels):\n",
    "            for word in words:\n",
    "                if word not in self.occurrence_table.keys():\n",
    "                    self.occurrence_table[word] = {0: 1, 1: 1}\n",
    "                self.occurrence_table[word][label] += 1\n",
    "\n",
    "                \n",
    "        \n",
    "\n",
    "    def build_probability_table(self):\n",
    "        '''Private function to create the probability table based on the occurrence table'''\n",
    "        for word in self.occurrence_table:\n",
    "            total = self.occurrence_table[word][0] + self.occurrence_table[word][1]\n",
    "            self.probability_table[word] = {\n",
    "                0: self.occurrence_table[word][0] / total,\n",
    "                1: self.occurrence_table[word][1] / total\n",
    "            }\n",
    "            \n",
    "            \n",
    "\n",
    "    def predict(self, variables):\n",
    "        '''Takes a set of variables, and predicts the class they should belong to'''\n",
    "        predictions = []\n",
    "        for words in variables:\n",
    "            prob_0 = 1\n",
    "            prob_1 = 1\n",
    "            for word in words:\n",
    "                if word in self.probability_table:\n",
    "                    prob_0 *= self.probability_table[word][0]\n",
    "                    prob_1 *= self.probability_table[word][1]\n",
    "                else:\n",
    "                    smoothing = 1 / (len(self.probability_table) + len(words))\n",
    "                    prob_0 *= smoothing\n",
    "                    prob_1 *= smoothing\n",
    "\n",
    "            if prob_0 > prob_1:\n",
    "                predictions.append(0)\n",
    "            elif prob_1 > prob_0:\n",
    "                predictions.append(1)\n",
    "            else:\n",
    "                predictions.append(random.randint(0, 1))\n",
    "\n",
    "        return predictions\n",
    "                \n",
    "\n",
    "\n"
   ]
  },
  {
   "cell_type": "code",
   "execution_count": 213,
   "metadata": {
    "tags": []
   },
   "outputs": [],
   "source": [
    "# Save raw titles to allow for misclassification logging\n",
    "# X_raw is the cleaned, untokenized title\n",
    "X_raw = combined_articles['cleaned_title'] \n",
    "y = combined_articles['satirical']\n",
    "\n",
    "# Preparing the data for the training and testing of a Naive Bayes Model\n",
    "# Split both tokenized and raw versions together\n",
    "X_raw_train, X_raw_test, data_train, data_test, label_train, label_test = train_test_split(\n",
    "    X_raw,\n",
    "    tokenized_data[\"cleaned_title\"],\n",
    "    y,\n",
    "    test_size=0.2,\n",
    "    shuffle=True,\n",
    "    random_state=42\n",
    ")\n",
    "\n",
    "\n",
    "# Creating the model\n",
    "naivebayes = NaiveBayesModel()\n",
    "\n",
    "# Training the model\n",
    "naivebayes.train_model(data_train, label_train)\n",
    "\n",
    "# Testing the model\n",
    "predicted_data = naivebayes.predict(data_test) \n",
    "\n",
    "full_predictions = naivebayes.predict(tokenized_data[\"cleaned_title\"])\n",
    "\n"
   ]
  },
  {
   "cell_type": "code",
   "execution_count": 218,
   "metadata": {
    "tags": []
   },
   "outputs": [
    {
     "name": "stdout",
     "output_type": "stream",
     "text": [
      "[[4250   33]\n",
      " [ 371 1430]]\n"
     ]
    },
    {
     "data": {
      "image/png": "[encoded data removed]",
      "text/plain": [
       "<Figure size 640x480 with 2 Axes>"
      ]
     },
     "metadata": {},
     "output_type": "display_data"
    },
    {
     "name": "stdout",
     "output_type": "stream",
     "text": [
      "Accuracy: 0.9335963182117029\n",
      "Precision: 0.9368034994049659\n",
      "Recall: 0.9335963182117029\n",
      "F Score: 0.9314184947762489\n",
      "[[21306   111]\n",
      " [ 1469  7531]]\n"
     ]
    },
    {
     "data": {
      "image/png": "[encoded data removed]",
      "text/plain": [
       "<Figure size 640x480 with 2 Axes>"
      ]
     },
     "metadata": {},
     "output_type": "display_data"
    }
   ],
   "source": [
    "import matplotlib.pyplot as plt\n",
    "import sklearn.metrics as metrics\n",
    "import pandas as pd\n",
    "\n",
    "# Confusion matrix and evaluation metrics\n",
    "conf_matrix = metrics.confusion_matrix(label_test, predicted_data, labels=[0, 1])\n",
    "print(conf_matrix)\n",
    "display = metrics.ConfusionMatrixDisplay(confusion_matrix=conf_matrix, display_labels=[\"Real Article\", \"Onion Article\"])\n",
    "display.plot(cmap=\"Blues\")\n",
    "plt.xlabel(\"Predicted\")\n",
    "plt.ylabel(\"Actual\")\n",
    "plt.title(\"Satire Article Predictor\")\n",
    "plt.show()\n",
    "\n",
    "# Evaluation scores\n",
    "accuracy = metrics.accuracy_score(label_test, predicted_data)\n",
    "print(f\"Accuracy: {accuracy}\")\n",
    "precision = metrics.precision_score(label_test, predicted_data, average=\"weighted\")\n",
    "print(f\"Precision: {precision}\")\n",
    "recall = metrics.recall_score(label_test, predicted_data, average=\"weighted\")\n",
    "print(f\"Recall: {recall}\")\n",
    "f_score = metrics.f1_score(label_test, predicted_data, average=\"weighted\")\n",
    "print(f\"F Score: {f_score}\")\n",
    "\n",
    "# Extract and save misclassified titles\n",
    "label_map = {0: \"Real Article\", 1: \"Onion Article\"}\n",
    "\n",
    "\n",
    "\n",
    "\n",
    "conf_matrix = metrics.confusion_matrix(y, full_predictions, labels=[0, 1])\n",
    "print(conf_matrix)\n",
    "display = metrics.ConfusionMatrixDisplay(confusion_matrix=conf_matrix, display_labels=[\"Real Article\", \"Onion Article\"])\n",
    "display.plot(cmap=\"Blues\")\n",
    "plt.xlabel(\"Predicted\")\n",
    "plt.ylabel(\"Actual\")\n",
    "plt.title(\"All Satire Article Predictor\")\n",
    "plt.show()\n",
    "\n",
    "misclassified_df = pd.DataFrame({\n",
    "    'title': X_raw,  # Must be the original titles aligned with label_test\n",
    "    'actual': [label_map[val] for val in y],\n",
    "    'predicted': [label_map[val] for val in full_predictions]\n",
    "})\n",
    "\n",
    "misclassified_only = misclassified_df[misclassified_df['actual'] != misclassified_df['predicted']]\n",
    "misclassified_only.to_csv(\"misclassified_titles.csv\", index=False)"
   ]
  }
 ],
 "metadata": {
  "kernelspec": {
   "display_name": "Python 3",
   "language": "python",
   "name": "python3"
  },
  "language_info": {
   "codemirror_mode": {
    "name": "ipython",
    "version": 3
   },
   "file_extension": ".py",
   "mimetype": "text/x-python",
   "name": "python",
   "nbconvert_exporter": "python",
   "pygments_lexer": "ipython3",
   "version": "3.13.3"
  },
  "otter": {
   "OK_FORMAT": true,
   "assignment_name": "naivebayes",
   "tests": {
    "p1": {
     "name": "p1",
     "points": null,
     "suites": [
      {
       "cases": [],
       "scored": true,
       "setup": "",
       "teardown": "",
       "type": "doctest"
      }
     ]
    }
   }
  }
 },
 "nbformat": 4,
 "nbformat_minor": 2
}
